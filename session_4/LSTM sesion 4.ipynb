{
 "cells": [
  {
   "cell_type": "markdown",
   "metadata": {},
   "source": [
    "# LSTM"
   ]
  },
  {
   "cell_type": "code",
   "execution_count": 3,
   "metadata": {},
   "outputs": [],
   "source": [
    "from __future__ import print_function\n",
    "\n",
    "import numpy as np\n",
    "import matplotlib.pyplot as plt\n",
    "import pandas as pd\n",
    "\n",
    "from keras.models import Sequential\n",
    "from keras.layers import Dense, LSTM"
   ]
  },
  {
   "cell_type": "code",
   "execution_count": 26,
   "metadata": {},
   "outputs": [],
   "source": [
    "def create_model():\n",
    "    model = Sequential()\n",
    "    model.add(LSTM(20,\n",
    "              input_shape=(20, 1)))\n",
    "    model.add(Dense(1))\n",
    "    model.compile(loss='mse', optimizer='adam')\n",
    "    \n",
    "    return model"
   ]
  },
  {
   "cell_type": "code",
   "execution_count": 27,
   "metadata": {},
   "outputs": [],
   "source": [
    "X = np.random.normal(size=(100, 20))\n",
    "y = np.random.normal(size=(100, 1))"
   ]
  },
  {
   "cell_type": "code",
   "execution_count": 28,
   "metadata": {},
   "outputs": [],
   "source": [
    "X = np.expand_dims(X, -1)"
   ]
  },
  {
   "cell_type": "markdown",
   "metadata": {},
   "source": [
    "La entrada del modelo debe tener la forma [batch_size, time_steps, features]\n",
    "\n",
    "En nuestro caso, si solo tenemos una feature, necesitamos exandir la dimensión de nuestra matriz 2-D para que entre en la red neuronal y se quede con al forma [batch_size, time_steps, 1], ya que únicamente tenemos una feature"
   ]
  },
  {
   "cell_type": "code",
   "execution_count": 31,
   "metadata": {},
   "outputs": [
    {
     "ename": "TypeError",
     "evalue": "create_model() missing 1 required positional argument: 'stateful'",
     "output_type": "error",
     "traceback": [
      "\u001b[0;31m---------------------------------------------------------------------------\u001b[0m",
      "\u001b[0;31mTypeError\u001b[0m                                 Traceback (most recent call last)",
      "\u001b[0;32m<ipython-input-31-834f03506210>\u001b[0m in \u001b[0;36m<module>\u001b[0;34m\u001b[0m\n\u001b[0;32m----> 1\u001b[0;31m \u001b[0mmodel\u001b[0m \u001b[0;34m=\u001b[0m \u001b[0mcreate_model\u001b[0m\u001b[0;34m(\u001b[0m\u001b[0;34m)\u001b[0m\u001b[0;34m\u001b[0m\u001b[0;34m\u001b[0m\u001b[0m\n\u001b[0m",
      "\u001b[0;31mTypeError\u001b[0m: create_model() missing 1 required positional argument: 'stateful'"
     ]
    }
   ],
   "source": [
    "model = create_model()"
   ]
  },
  {
   "cell_type": "code",
   "execution_count": 30,
   "metadata": {},
   "outputs": [
    {
     "name": "stdout",
     "output_type": "stream",
     "text": [
      "Epoch 1/1\n",
      "100/100 [==============================] - 1s 10ms/step - loss: 1.1035\n",
      "Epoch 1/1\n",
      "100/100 [==============================] - 0s 573us/step - loss: 1.0989\n",
      "Epoch 1/1\n",
      "100/100 [==============================] - 0s 559us/step - loss: 1.0951\n",
      "Epoch 1/1\n",
      "100/100 [==============================] - 0s 506us/step - loss: 1.0919\n",
      "Epoch 1/1\n",
      "100/100 [==============================] - 0s 552us/step - loss: 1.0892\n",
      "Epoch 1/1\n",
      "100/100 [==============================] - 0s 494us/step - loss: 1.0869\n",
      "Epoch 1/1\n",
      "100/100 [==============================] - 0s 528us/step - loss: 1.0851\n",
      "Epoch 1/1\n",
      "100/100 [==============================] - 0s 564us/step - loss: 1.0838\n",
      "Epoch 1/1\n",
      "100/100 [==============================] - 0s 551us/step - loss: 1.0826\n",
      "Epoch 1/1\n",
      "100/100 [==============================] - 0s 539us/step - loss: 1.0817\n"
     ]
    }
   ],
   "source": [
    "for i in range(10):\n",
    "    model.fit(X, y, batch_size=64, epochs=1,\n",
    "                       verbose=1, shuffle=False)"
   ]
  },
  {
   "cell_type": "code",
   "execution_count": null,
   "metadata": {},
   "outputs": [],
   "source": []
  }
 ],
 "metadata": {
  "kernelspec": {
   "display_name": "Python 3",
   "language": "python",
   "name": "python3"
  },
  "language_info": {
   "codemirror_mode": {
    "name": "ipython",
    "version": 3
   },
   "file_extension": ".py",
   "mimetype": "text/x-python",
   "name": "python",
   "nbconvert_exporter": "python",
   "pygments_lexer": "ipython3",
   "version": "3.7.2"
  }
 },
 "nbformat": 4,
 "nbformat_minor": 2
}
